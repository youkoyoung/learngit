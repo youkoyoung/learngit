{
 "cells": [
  {
   "cell_type": "markdown",
   "metadata": {},
   "source": [
    "#### 使用多线程去播放两个播放列表，一个是movie，一个是music\n",
    "- _thread\n",
    "- threading\n"
   ]
  },
  {
   "cell_type": "code",
   "execution_count": 4,
   "metadata": {},
   "outputs": [
    {
     "name": "stdout",
     "output_type": "stream",
     "text": [
      "你现在收听的是:周杰伦.mp3\n",
      "你现在收看的是：斗破.mp4\n",
      "你现在收听的是:五月天.mp3\n",
      "你现在收看的是：复仇者联盟.avi\n",
      "没有能播放的格式\n",
      "你现在收看的是：xxx.mp4\n"
     ]
    }
   ],
   "source": [
    "import _thread as thread\n",
    "import time\n",
    "\n",
    "movie_list = [\"斗破.mp4\", \"复仇者联盟.avi\",\"钢铁雨.rmvb\",\"xxx.mp4\"]\n",
    "music_list = ['周杰伦.mp3','五月天.mp3']\n",
    "movie_format = ['mp4','avi']\n",
    "music_format = ['mp3']\n",
    "\n",
    "def play(playlist):\n",
    "    for i in playlist:\n",
    "        if i.split(\".\")[1] in movie_format:\n",
    "            print(\"你现在收看的是：{}\".format(i))\n",
    "            time.sleep(3)\n",
    "        elif i.split(\".\")[1] in music_format:\n",
    "            print(\"你现在收听的是:{}\".format(i))\n",
    "            time.sleep(2)\n",
    "        else:\n",
    "            print(\"没有能播放的格式\")\n",
    "            \n",
    "            \n",
    "def thread_run():\n",
    "    thread.start_new_thread(play, (movie_list,))\n",
    "    thread.start_new_thread(play, (music_list,))\n",
    "    \n",
    "if __name__ == \"__main__\":\n",
    "    thread_run()"
   ]
  },
  {
   "cell_type": "code",
   "execution_count": 11,
   "metadata": {},
   "outputs": [
    {
     "name": "stdout",
     "output_type": "stream",
     "text": [
      "你现在收看的是：斗破.mp4\n",
      "你现在收听的是:周杰伦.mp3\n",
      "你现在收听的是:五月天.mp3\n",
      "你现在收看的是：复仇者联盟.avi\n",
      "没有能播放的格式\n",
      "你现在收看的是：xxx.mp4\n"
     ]
    }
   ],
   "source": [
    "import threading\n",
    "import time\n",
    "\n",
    "movie_list = [\"斗破.mp4\", \"复仇者联盟.avi\",\"钢铁雨.rmvb\",\"xxx.mp4\"]\n",
    "music_list = ['周杰伦.mp3','五月天.mp3']\n",
    "movie_format = ['mp4','avi']\n",
    "music_format = ['mp3']\n",
    "\n",
    "def play(playlist):\n",
    "    for i in playlist:\n",
    "        if i.split(\".\")[1] in movie_format:\n",
    "            print(\"你现在收看的是：{}\".format(i))\n",
    "            time.sleep(3)\n",
    "        elif i.split(\".\")[1] in music_format:\n",
    "            print(\"你现在收听的是:{}\".format(i))\n",
    "            time.sleep(2)\n",
    "        else:\n",
    "            print(\"没有能播放的格式\")\n",
    "            \n",
    "            \n",
    "def thread_run():\n",
    "    t1 = threading.Thread(target=play, args=(movie_list,))\n",
    "    t2 = threading.Thread(target=play, args=(music_list,))\n",
    "    t1.start()\n",
    "    t2.start()\n",
    "    \n",
    "if __name__ == \"__main__\":\n",
    "    thread_run()"
   ]
  },
  {
   "cell_type": "code",
   "execution_count": null,
   "metadata": {},
   "outputs": [],
   "source": []
  }
 ],
 "metadata": {
  "kernelspec": {
   "display_name": "Python 3",
   "language": "python",
   "name": "python3"
  },
  "language_info": {
   "codemirror_mode": {
    "name": "ipython",
    "version": 3
   },
   "file_extension": ".py",
   "mimetype": "text/x-python",
   "name": "python",
   "nbconvert_exporter": "python",
   "pygments_lexer": "ipython3",
   "version": "3.6.5"
  }
 },
 "nbformat": 4,
 "nbformat_minor": 2
}
