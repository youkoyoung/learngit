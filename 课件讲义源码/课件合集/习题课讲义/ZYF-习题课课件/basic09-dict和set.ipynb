{
 "cells": [
  {
   "cell_type": "markdown",
   "metadata": {},
   "source": [
    "写一个程序来管理用于登陆系统的用户信息：登陆名字和密码。\n",
    "登陆用户账号建立后，已存在用户可以用登陆名字和密码重返系统，\n",
    "新用户不能用别人的用户名建立用户账号"
   ]
  },
  {
   "cell_type": "code",
   "execution_count": 22,
   "metadata": {},
   "outputs": [
    {
     "name": "stdout",
     "output_type": "stream",
     "text": [
      "恭喜你，登陆成功\n"
     ]
    }
   ],
   "source": [
    "# 模拟从数据库里取出来的用户名和密码\n",
    "user_pass = {\"laotie\":\"password\",\"huniu\":\"adminf\"}\n",
    "\n",
    "def create_user(username,password):\n",
    "    \"\"\"\n",
    "    username:用户建立账号的用户名\n",
    "    password：用户建立账号的密码\n",
    "    \"\"\"\n",
    "    \n",
    "    # 判断 用户输入的账号是不是已经存在\n",
    "    usernames = user_pass.keys()\n",
    "    \n",
    "    if username in usernames:\n",
    "        print(\"这个用户已经被注册了\")\n",
    "    else:\n",
    "        # 没有被注册，那么就更新我们的user_pass\n",
    "        # 实际情况是会做持久化存储到数据库中\n",
    "        user_pass[username] = password\n",
    "        print(\"恭喜你，你已经很荣幸的成为了我们的会员\")\n",
    "\n",
    "# create_user(\"goudan\",\"123\")\n",
    "\n",
    "# print(user_pass)\n",
    "\n",
    "def login_user(username,password):\n",
    "    # 首先要判断登陆的用户名是否存在\n",
    "    \n",
    "    usernames = user_pass.keys()\n",
    "    \n",
    "    if username not in usernames:\n",
    "        print(\"扯犊子呢，你丫根本不是我们会员\")\n",
    "    elif password != user_pass[username]:\n",
    "        # 判断用户的密码是否正确\n",
    "        print(\"你个蠢货，连密码你都记不住\")\n",
    "    else:\n",
    "        print(\"恭喜你，登陆成功\")\n",
    "        \n",
    "login_user(\"laotie\",\"password\")\n",
    "    "
   ]
  },
  {
   "cell_type": "code",
   "execution_count": null,
   "metadata": {},
   "outputs": [],
   "source": [
    "user_pass = {\"laotie\":\"password\",\"huniu\":\"adminf\"}\n",
    "    "
   ]
  }
 ],
 "metadata": {
  "kernelspec": {
   "display_name": "Python 3",
   "language": "python",
   "name": "python3"
  },
  "language_info": {
   "codemirror_mode": {
    "name": "ipython",
    "version": 3
   },
   "file_extension": ".py",
   "mimetype": "text/x-python",
   "name": "python",
   "nbconvert_exporter": "python",
   "pygments_lexer": "ipython3",
   "version": "3.7.3"
  }
 },
 "nbformat": 4,
 "nbformat_minor": 2
}
