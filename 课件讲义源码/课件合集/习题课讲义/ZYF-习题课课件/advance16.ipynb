{
 "cells": [
  {
   "cell_type": "markdown",
   "metadata": {},
   "source": [
    "利用map()函数，把用户输入的不规范的英文，变成首字母大写，其他小写的规范的名字：比如说[\"ADMAm\",\"LISA\",\"JACk\"]\n",
    "[\"Admam\",\"Lisa\",\"Jack\"]"
   ]
  },
  {
   "cell_type": "code",
   "execution_count": 2,
   "metadata": {},
   "outputs": [
    {
     "name": "stdout",
     "output_type": "stream",
     "text": [
      "Admam\n",
      "Lisa\n",
      "Jack\n"
     ]
    },
    {
     "data": {
      "text/plain": [
       "['Admam', 'Lisa', 'Jack']"
      ]
     },
     "execution_count": 2,
     "metadata": {},
     "output_type": "execute_result"
    }
   ],
   "source": [
    "def standards(s):\n",
    "#     t = '0'\n",
    "    t = s.lower() # 将s全部小写\n",
    "    t = t.capitalize() # 将t的首字母大写\n",
    "    print(t)\n",
    "    return t\n",
    "\n",
    "list(map(standards,[\"ADMAm\",\"LISA\",\"JACk\"]))"
   ]
  },
  {
   "cell_type": "markdown",
   "metadata": {},
   "source": [
    "回数：从左向右和从右向左读都是一样的数，例如 12321，999，请利用filter()函数"
   ]
  },
  {
   "cell_type": "code",
   "execution_count": 3,
   "metadata": {},
   "outputs": [
    {
     "name": "stdout",
     "output_type": "stream",
     "text": [
      "1~1000: [1, 2, 3, 4, 5, 6, 7, 8, 9, 11, 22, 33, 44, 55, 66, 77, 88, 99, 101, 111, 121, 131, 141, 151, 161, 171, 181, 191, 202, 212, 222, 232, 242, 252, 262, 272, 282, 292, 303, 313, 323, 333, 343, 353, 363, 373, 383, 393, 404, 414, 424, 434, 444, 454, 464, 474, 484, 494, 505, 515, 525, 535, 545, 555, 565, 575, 585, 595, 606, 616, 626, 636, 646, 656, 666, 676, 686, 696, 707, 717, 727, 737, 747, 757, 767, 777, 787, 797, 808, 818, 828, 838, 848, 858, 868, 878, 888, 898, 909, 919, 929, 939, 949, 959, 969, 979, 989, 999]\n"
     ]
    }
   ],
   "source": [
    "def equal(a,b):\n",
    "    return a==b\n",
    "\n",
    "def is_palindrome(n):\n",
    "    s = str(n) # 先转换成字符串\n",
    "    for i in range(len(s)-1):\n",
    "        if equal(s[i],s[len(s)-i-1]):\n",
    "            continue\n",
    "        else:\n",
    "            return False\n",
    "    return True\n",
    "\n",
    "output = filter(is_palindrome,range(1,1000))\n",
    "print(\"1~1000:\",list(output))"
   ]
  },
  {
   "cell_type": "markdown",
   "metadata": {},
   "source": [
    "假设，我们用一组tuple来表示学生的名字和成绩，L = [(\"Bob\",75),(\"Adam\",92),(\"Bart\",66),(\"List\",88)] 用sorted()对上述列表按照名字排序"
   ]
  },
  {
   "cell_type": "code",
   "execution_count": 4,
   "metadata": {},
   "outputs": [
    {
     "name": "stdout",
     "output_type": "stream",
     "text": [
      "[('Adam', 92), ('Bob', 75), ('Bart', 66), ('List', 88)]\n"
     ]
    }
   ],
   "source": [
    "L = [(\"Bob\",75),(\"Adam\",92),(\"Bart\",66),(\"List\",88)]\n",
    "\n",
    "def by_name(t):\n",
    "    t = sorted(t[0],key=str.lower)\n",
    "    return t\n",
    "\n",
    "L2 = sorted(L,key=by_name)\n",
    "print(L2)"
   ]
  },
  {
   "cell_type": "markdown",
   "metadata": {},
   "source": [
    "再按照成绩高低进行排序"
   ]
  },
  {
   "cell_type": "code",
   "execution_count": 7,
   "metadata": {},
   "outputs": [
    {
     "name": "stdout",
     "output_type": "stream",
     "text": [
      "[('Bart', 66), ('Bob', 75), ('List', 88), ('Adam', 92)]\n"
     ]
    }
   ],
   "source": [
    "def by_score(t):\n",
    "    t = sorted(range(t[1]),key=abs)\n",
    "    return t\n",
    "\n",
    "L2 = sorted(L,key=by_score)\n",
    "print(L2)"
   ]
  },
  {
   "cell_type": "code",
   "execution_count": null,
   "metadata": {},
   "outputs": [],
   "source": []
  }
 ],
 "metadata": {
  "kernelspec": {
   "display_name": "Python 3",
   "language": "python",
   "name": "python3"
  },
  "language_info": {
   "codemirror_mode": {
    "name": "ipython",
    "version": 3
   },
   "file_extension": ".py",
   "mimetype": "text/x-python",
   "name": "python",
   "nbconvert_exporter": "python",
   "pygments_lexer": "ipython3",
   "version": "3.7.0"
  }
 },
 "nbformat": 4,
 "nbformat_minor": 2
}
