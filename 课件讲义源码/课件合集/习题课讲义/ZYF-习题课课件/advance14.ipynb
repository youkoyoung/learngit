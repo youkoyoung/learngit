{
 "cells": [
  {
   "cell_type": "markdown",
   "metadata": {},
   "source": [
    "编写一个计算减法的方法，当第一个数小于第二个数时，抛出“被减数不能小于减数\"的异常"
   ]
  },
  {
   "cell_type": "code",
   "execution_count": 39,
   "metadata": {},
   "outputs": [
    {
     "name": "stdout",
     "output_type": "stream",
     "text": [
      "好像出错了，出错的内容是被减数不能小于减数\n"
     ]
    }
   ],
   "source": [
    "def jianfa(a,b):\n",
    "    if a < b:\n",
    "        raise BaseException(\"被减数不能小于减数\")\n",
    "    else:\n",
    "        return a-b\n",
    "    \n",
    "try:\n",
    "    jianfa(3,7)\n",
    "except BaseException as error:\n",
    "    print(\"好像出错了，出错的内容是{}\".format(error))"
   ]
  },
  {
   "cell_type": "markdown",
   "metadata": {},
   "source": [
    " 定义一个函数func(filename) filename:文件的路径，\n",
    " 函数功能：打开文件，并且返回文件内容，最后关闭，用异常来处理可能发生的错误"
   ]
  },
  {
   "cell_type": "code",
   "execution_count": 41,
   "metadata": {},
   "outputs": [
    {
     "name": "stdout",
     "output_type": "stream",
     "text": [
      "This is Test Document\n"
     ]
    }
   ],
   "source": [
    "import os\n",
    "\n",
    "def func(filename):\n",
    "    try:\n",
    "        file = open(filename)\n",
    "    except Exception as error:\n",
    "        print(\"出错啦，出错的内容是{}\".format(error))\n",
    "    else:\n",
    "        print(file.read())\n",
    "        file.close()\n",
    "        \n",
    "\n",
    "func(\"hahaha.txt\")\n",
    "    "
   ]
  },
  {
   "cell_type": "markdown",
   "metadata": {},
   "source": [
    "自己定义一个异常类，继承Exception类, 捕获下面的过程：判断输入的字符串长度是否小于5"
   ]
  },
  {
   "cell_type": "code",
   "execution_count": 53,
   "metadata": {},
   "outputs": [
    {
     "name": "stdout",
     "output_type": "stream",
     "text": [
      "算你聪明\n"
     ]
    }
   ],
   "source": [
    "class MyError(Exception):\n",
    "    def __init__(self, stri):\n",
    "        self.stri = stri\n",
    "        \n",
    "    def process(self):\n",
    "        if len(self.stri) < 5:\n",
    "            print(\"字符串的长度必须大于5\")\n",
    "        else:\n",
    "            print(\"算你聪明\")\n",
    "\n",
    "try:\n",
    "    er = MyError(\"ssssss\")\n",
    "    er.process()\n",
    "except MyError as err:\n",
    "    print(error)"
   ]
  },
  {
   "cell_type": "code",
   "execution_count": null,
   "metadata": {},
   "outputs": [],
   "source": []
  }
 ],
 "metadata": {
  "kernelspec": {
   "display_name": "Python 3",
   "language": "python",
   "name": "python3"
  },
  "language_info": {
   "codemirror_mode": {
    "name": "ipython",
    "version": 3
   },
   "file_extension": ".py",
   "mimetype": "text/x-python",
   "name": "python",
   "nbconvert_exporter": "python",
   "pygments_lexer": "ipython3",
   "version": "3.7.0"
  }
 },
 "nbformat": 4,
 "nbformat_minor": 2
}
