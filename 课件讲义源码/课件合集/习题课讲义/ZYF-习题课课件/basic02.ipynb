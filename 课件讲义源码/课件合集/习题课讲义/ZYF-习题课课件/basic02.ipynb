{
 "cells": [
  {
   "cell_type": "markdown",
   "metadata": {},
   "source": [
    "### 什么是BIF？Python3提供了多少个BIF？\n",
    "build in function\n",
    "\n"
   ]
  },
  {
   "cell_type": "markdown",
   "metadata": {},
   "source": [
    "### \"TUling\" 和 \"tuling\" 是一样的吗？"
   ]
  },
  {
   "cell_type": "code",
   "execution_count": 1,
   "metadata": {},
   "outputs": [
    {
     "data": {
      "text/plain": [
       "False"
      ]
     },
     "execution_count": 1,
     "metadata": {},
     "output_type": "execute_result"
    }
   ],
   "source": [
    "# \"C\" == \"c\"\n",
    "\n",
    "\"李四\" == '李4'"
   ]
  },
  {
   "cell_type": "markdown",
   "metadata": {},
   "source": [
    "### \"=\" 和 \"==\" 的运用与区别\n",
    "- '=' 是用来赋值的\n",
    "- '==' 是用来判断两个对象是否相等的"
   ]
  },
  {
   "cell_type": "code",
   "execution_count": 5,
   "metadata": {},
   "outputs": [
    {
     "data": {
      "text/plain": [
       "1"
      ]
     },
     "execution_count": 5,
     "metadata": {},
     "output_type": "execute_result"
    }
   ],
   "source": [
    "a = 1\n",
    "a\n",
    "#print(a)"
   ]
  },
  {
   "cell_type": "markdown",
   "metadata": {},
   "source": [
    "#### 了解字符串拼接"
   ]
  },
  {
   "cell_type": "code",
   "execution_count": 10,
   "metadata": {},
   "outputs": [
    {
     "data": {
      "text/plain": [
       "'我喜欢刘亦菲小姐姐刘亦菲小姐姐也喜欢我'"
      ]
     },
     "execution_count": 10,
     "metadata": {},
     "output_type": "execute_result"
    }
   ],
   "source": [
    "\"我喜欢\" + \"刘亦菲小姐姐\" + \"刘亦菲小姐姐也喜欢我\""
   ]
  },
  {
   "cell_type": "markdown",
   "metadata": {},
   "source": [
    "#### 编写程序，要求用户输入姓名并且打印\"你好，姓名\""
   ]
  },
  {
   "cell_type": "code",
   "execution_count": 6,
   "metadata": {},
   "outputs": [
    {
     "name": "stdout",
     "output_type": "stream",
     "text": [
      "请输入你的姓名：york\n",
      "你好，york\n"
     ]
    }
   ],
   "source": [
    "name = input(\"请输入你的姓名：\")\n",
    "print(\"你好，\" + name)"
   ]
  },
  {
   "cell_type": "markdown",
   "metadata": {},
   "source": [
    "#### 编写程序，要求用户输入1-100之间的整数并且判断，输入符合要求的打印\"你好看\",否则打印\"你丑八怪，天黑别把灯打开\"\n"
   ]
  },
  {
   "cell_type": "code",
   "execution_count": 9,
   "metadata": {},
   "outputs": [
    {
     "name": "stdout",
     "output_type": "stream",
     "text": [
      "请输入一个零到一百的整数：df\n",
      "丑八怪，天黑别把灯打开\n"
     ]
    }
   ],
   "source": [
    "temp = input(\"请输入一个零到一百的整数：\")\n",
    "\n",
    "if temp.isdigit():\n",
    "    temp = int(temp)\n",
    "    if 1 <= temp <= 100:\n",
    "        print(\"你好看\")\n",
    "    else:\n",
    "        print(\"你丑八怪，天黑别把灯打开\")\n",
    "    \n",
    "else:\n",
    "    print(\"丑八怪，天黑别把灯打开\")\n"
   ]
  },
  {
   "cell_type": "code",
   "execution_count": 11,
   "metadata": {},
   "outputs": [
    {
     "name": "stdout",
     "output_type": "stream",
     "text": [
      "请输入:sf4ew\n"
     ]
    },
    {
     "data": {
      "text/plain": [
       "False"
      ]
     },
     "execution_count": 11,
     "metadata": {},
     "output_type": "execute_result"
    }
   ],
   "source": [
    "temp = input(\"请输入:\")\n",
    "\n",
    "# print(type(temp))\n",
    "temp.isdigit()"
   ]
  },
  {
   "cell_type": "code",
   "execution_count": null,
   "metadata": {},
   "outputs": [],
   "source": []
  }
 ],
 "metadata": {
  "kernelspec": {
   "display_name": "Python 3",
   "language": "python",
   "name": "python3"
  },
  "language_info": {
   "codemirror_mode": {
    "name": "ipython",
    "version": 3
   },
   "file_extension": ".py",
   "mimetype": "text/x-python",
   "name": "python",
   "nbconvert_exporter": "python",
   "pygments_lexer": "ipython3",
   "version": "3.7.3"
  }
 },
 "nbformat": 4,
 "nbformat_minor": 2
}
