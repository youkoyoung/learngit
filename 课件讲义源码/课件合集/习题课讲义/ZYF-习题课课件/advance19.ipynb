{
 "cells": [
  {
   "cell_type": "markdown",
   "metadata": {},
   "source": [
    "编写一个程序，接受用户输入的内容，并且保存为新的文件\n",
    "\n",
    "如果用户单独输入 :w\n",
    "\n",
    "表示文件保存退出"
   ]
  },
  {
   "cell_type": "markdown",
   "metadata": {},
   "source": [
    "open()\n",
    "\n",
    "input()\n",
    "\n",
    "\"w\""
   ]
  },
  {
   "cell_type": "code",
   "execution_count": 5,
   "metadata": {},
   "outputs": [
    {
     "name": "stdout",
     "output_type": "stream",
     "text": [
      "请用户输入文件名：test3\n",
      "请输入内容，（单独输入:w 保存退出）\n",
      "111\n",
      "222\n",
      "333\n",
      "444\n",
      "555\n",
      "666\n",
      ":w\n"
     ]
    }
   ],
   "source": [
    "file_name = input(\"请用户输入文件名：\")\n",
    "\n",
    "def file_write(file_name):\n",
    "    \n",
    "    f = open(file_name, \"w\") # 打开我们用户的文件\n",
    "    \n",
    "    print(\"请输入内容，（单独输入:w 保存退出）\")\n",
    "    \n",
    "    while True:\n",
    "        write_something = input()\n",
    "        # 判断用户输入的是不是 :w\n",
    "        if write_something != \":w\":\n",
    "            # 想文件中写入用户输入的内容\n",
    "            f.write(\"%s\\n\" % write_something)\n",
    "        else:\n",
    "            # 用户输入的是:w\n",
    "            break\n",
    "            \n",
    "    f.close()\n",
    "    \n",
    "file_write(file_name)"
   ]
  },
  {
   "cell_type": "markdown",
   "metadata": {},
   "source": [
    "#### 编写一个程序，比较用户输入的文件是否相同，如果不同，显示出所有不同处的行号\n",
    "\n",
    "- f.readline()\n",
    "- open()\n",
    "- differ "
   ]
  },
  {
   "cell_type": "code",
   "execution_count": 6,
   "metadata": {},
   "outputs": [
    {
     "name": "stdout",
     "output_type": "stream",
     "text": [
      "请输入需要比较的第一个文件名：test1\n",
      "请输入需要比较的第二个文件名：test3\n",
      "两个文件完全相同\n"
     ]
    }
   ],
   "source": [
    "file1 = input(\"请输入需要比较的第一个文件名：\")\n",
    "file2 = input(\"请输入需要比较的第二个文件名：\")\n",
    "\n",
    "def file_compare(file1, file2):\n",
    "    f1 = open(file1)\n",
    "    f2 = open(file2)\n",
    "    \n",
    "    count = 1 # 统计的行数\n",
    "    differ = [] # 统计不一样的数量\n",
    "    \n",
    "    \n",
    "    for line1 in f1:\n",
    "        line2 = f2.readline()\n",
    "        if line1 != line2: # 文件不同\n",
    "            differ.append(count)\n",
    "        count += 1   \n",
    "    f1.close()\n",
    "    f2.close()\n",
    "    \n",
    "    return differ\n",
    "\n",
    "differ = file_compare(file1, file2)\n",
    "\n",
    "if len(differ) == 0:\n",
    "    print(\"两个文件完全相同\")\n",
    "else:\n",
    "    print(\"两个文件有%d不同\" % len(differ))\n",
    "    for each in differ:\n",
    "        print(\"第%d行不一样\" % each)\n",
    "    "
   ]
  },
  {
   "cell_type": "code",
   "execution_count": null,
   "metadata": {},
   "outputs": [],
   "source": []
  }
 ],
 "metadata": {
  "kernelspec": {
   "display_name": "Python 3",
   "language": "python",
   "name": "python3"
  },
  "language_info": {
   "codemirror_mode": {
    "name": "ipython",
    "version": 3
   },
   "file_extension": ".py",
   "mimetype": "text/x-python",
   "name": "python",
   "nbconvert_exporter": "python",
   "pygments_lexer": "ipython3",
   "version": "3.7.0"
  }
 },
 "nbformat": 4,
 "nbformat_minor": 2
}
