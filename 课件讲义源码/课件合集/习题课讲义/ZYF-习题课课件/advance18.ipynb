{
 "cells": [
  {
   "cell_type": "markdown",
   "metadata": {},
   "source": [
    "权重\n",
    "\n",
    "goods = [{\"name\":\"good1\", \"price\":200, \"sales\":100, \"stars\":5, \"comments\":400},{\"name\":\"good2\", \"price\":300, \"sales\":120, \"stars\":4, \"comments\":500},{\"name\":\"good3\", \"price\":500, \"sales\":3000, \"stars\":2, \"comments\":199},{\"name\":\"good4\", \"price\":1288, \"sales\":8, \"stars\":5, \"comments\":398},{\"name\":\"good5\", \"price\":899, \"sales\":99, \"stars\":5, \"comments\":2000}]\n",
    "\n",
    "权重是100\n",
    "\n",
    "价格占的权重是40%,销量占的权重是17%,评级占的权重是13%,评论占的权重是30%\n",
    "\n"
   ]
  },
  {
   "cell_type": "code",
   "execution_count": 5,
   "metadata": {},
   "outputs": [
    {
     "name": "stdout",
     "output_type": "stream",
     "text": [
      "[{'name': 'good1', 'price': 200, 'sales': 100, 'stars': 5, 'comments': 400}, {'name': 'good2', 'price': 300, 'sales': 120, 'stars': 4, 'comments': 500}, {'name': 'good4', 'price': 1288, 'sales': 8, 'stars': 5, 'comments': 398}, {'name': 'good3', 'price': 500, 'sales': 3000, 'stars': 2, 'comments': 199}, {'name': 'good5', 'price': 899, 'sales': 99, 'stars': 5, 'comments': 2000}]\n"
     ]
    }
   ],
   "source": [
    "goods = [{\"name\":\"good1\", \"price\":200, \"sales\":100, \"stars\":5, \"comments\":400},{\"name\":\"good2\", \"price\":300, \"sales\":120, \"stars\":4, \"comments\":500},{\"name\":\"good3\", \"price\":500, \"sales\":3000, \"stars\":2, \"comments\":199},{\"name\":\"good4\", \"price\":1288, \"sales\":8, \"stars\":5, \"comments\":398},{\"name\":\"good5\", \"price\":899, \"sales\":99, \"stars\":5, \"comments\":2000}]\n",
    "\n",
    "# print(goods)\n",
    "\n",
    "# sorted() 进行排序\n",
    "\n",
    "def my_sorted(arg):\n",
    "    price = arg['price']\n",
    "    sales = arg['sales']\n",
    "    star = arg['stars']\n",
    "    comment = arg['comments']\n",
    "    \n",
    "    data = price*0.4+sales*0.17+star*0.13+comment*0.3\n",
    "    \n",
    "    return data\n",
    "\n",
    "print(sorted(goods, key=my_sorted))"
   ]
  },
  {
   "cell_type": "code",
   "execution_count": 7,
   "metadata": {},
   "outputs": [
    {
     "name": "stdout",
     "output_type": "stream",
     "text": [
      "[{'name': 'good5', 'price': 899, 'sales': 99, 'stars': 5, 'comments': 2000}, {'name': 'good3', 'price': 500, 'sales': 3000, 'stars': 2, 'comments': 199}, {'name': 'good4', 'price': 1288, 'sales': 8, 'stars': 5, 'comments': 398}, {'name': 'good2', 'price': 300, 'sales': 120, 'stars': 4, 'comments': 500}, {'name': 'good1', 'price': 200, 'sales': 100, 'stars': 5, 'comments': 400}]\n"
     ]
    }
   ],
   "source": [
    "r = sorted(goods, key = lambda x: x['price'] *0.4 + x['sales']*0.17+x['stars']*0.13+x['comments']*0.3, reverse=True)\n",
    "\n",
    "print(r)"
   ]
  },
  {
   "cell_type": "code",
   "execution_count": null,
   "metadata": {},
   "outputs": [],
   "source": []
  }
 ],
 "metadata": {
  "kernelspec": {
   "display_name": "Python 3",
   "language": "python",
   "name": "python3"
  },
  "language_info": {
   "codemirror_mode": {
    "name": "ipython",
    "version": 3
   },
   "file_extension": ".py",
   "mimetype": "text/x-python",
   "name": "python",
   "nbconvert_exporter": "python",
   "pygments_lexer": "ipython3",
   "version": "3.6.5"
  }
 },
 "nbformat": 4,
 "nbformat_minor": 2
}
