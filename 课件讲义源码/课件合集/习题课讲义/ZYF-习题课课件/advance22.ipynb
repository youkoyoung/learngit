{
 "cells": [
  {
   "cell_type": "markdown",
   "metadata": {},
   "source": [
    "#### 编写一个程序，用户输入文件名以及开始搜索的路径，搜索该文件是否存在，如果遇到文件夹，则进入该文件夹继续搜索\n",
    "\n",
    "- input 去接受用户输入的文件名和开始搜索的路径\n",
    "- os.path.isdir 去判断是不是文件夹 如果是的话，就需要进入该文件夹继续搜索，循环调用一下我们的函数来实现"
   ]
  },
  {
   "cell_type": "code",
   "execution_count": 25,
   "metadata": {},
   "outputs": [
    {
     "name": "stdout",
     "output_type": "stream",
     "text": [
      "请输入目录：.\n",
      "请输入文件名test.txt\n",
      "C:\\Users\\oko\\图灵学院\\test.txt\n",
      "C:\\Users\\oko\\图灵学院\\Untitled Folder\\test.txt\n"
     ]
    }
   ],
   "source": [
    "import os\n",
    "\n",
    "start_dir = input(\"请输入目录：\")\n",
    "target = input(\"请输入文件名\")\n",
    "\n",
    "def search_file(start_dir, target):\n",
    "    os.chdir(start_dir) #切换到用户输入的路径\n",
    "    \n",
    "    for each_file in os.listdir(os.curdir):\n",
    "        if each_file == target:\n",
    "            print(os.getcwd() + os.sep + each_file)\n",
    "        if os.path.isdir(each_file):\n",
    "            search_file(each_file, target) # 递归调用\n",
    "            os.chdir(os.pardir)\n",
    "            \n",
    "search_file(start_dir, target)"
   ]
  },
  {
   "cell_type": "markdown",
   "metadata": {},
   "source": [
    "#### 对上述题目加一些需求，模糊匹配，判断我们的target是否包含在某一个文件中\n",
    "- in 去判断target这个字符串是否在文件的名字中\n",
    "\n"
   ]
  },
  {
   "cell_type": "code",
   "execution_count": 28,
   "metadata": {},
   "outputs": [
    {
     "name": "stdout",
     "output_type": "stream",
     "text": [
      "please input start directory:.\n",
      "enter your file namete\n",
      "C:\\Users\\oko\\图灵学院\\test.txt\n",
      "C:\\Users\\oko\\图灵学院\\Untitled Folder\\.ipynb_checkpoints\\test.txt-checkpoint.ipynb\n",
      "C:\\Users\\oko\\图灵学院\\Untitled Folder\\test.txt\n",
      "C:\\Users\\oko\\图灵学院\\Untitled Folder\\test.txt.ipynb\n"
     ]
    }
   ],
   "source": [
    "import os\n",
    "\n",
    "start_dir = input(\"please input start directory:\")\n",
    "target = input(\"enter your file name\")\n",
    "\n",
    "def seach_file(start_dir, target):\n",
    "    os.chdir(start_dir)\n",
    "    \n",
    "    for each_file in os.listdir(os.curdir):\n",
    "        if target in each_file:\n",
    "            print(os.getcwd() + os.sep + each_file)\n",
    "        if os.path.isdir(each_file):\n",
    "            seach_file(each_file, target)\n",
    "            os.chdir(os.pardir)\n",
    "            \n",
    "seach_file(start_dir, target)"
   ]
  },
  {
   "cell_type": "markdown",
   "metadata": {},
   "source": [
    "#### 再加一个需求，上述题目，我们需要保存我们的文件存在的地方，到我们指定的路径\n",
    "\n",
    "- file I/O 写文件"
   ]
  },
  {
   "cell_type": "code",
   "execution_count": 35,
   "metadata": {},
   "outputs": [
    {
     "name": "stdout",
     "output_type": "stream",
     "text": [
      "please input start directory:.\n",
      "enter your file namete\n"
     ]
    }
   ],
   "source": [
    "import os\n",
    "\n",
    "start_dir = input(\"please input start directory:\")\n",
    "target = input(\"enter your file name\")\n",
    "backup = []\n",
    "\n",
    "def seach_file(start_dir, target):\n",
    "    os.chdir(start_dir)\n",
    "    \n",
    "    for each_file in os.listdir(os.curdir):\n",
    "        if target in each_file:            \n",
    "            backup_file = os.getcwd() + os.sep + each_file\n",
    "            backup.append(backup_file)\n",
    "        if os.path.isdir(each_file):\n",
    "            seach_file(each_file, target)\n",
    "            os.chdir(os.pardir)\n",
    "    \n",
    "    return backup\n",
    "            \n",
    "rd = seach_file(start_dir, target)\n",
    "\n",
    "f = open(os.getcwd() + os.sep + \"backup.txt\", \"wb\")\n",
    "f.write(\"\\n\".join(rd).encode(\"utf-8\"))\n",
    "f.close()\n",
    "# print(rd)"
   ]
  },
  {
   "cell_type": "code",
   "execution_count": null,
   "metadata": {},
   "outputs": [],
   "source": []
  }
 ],
 "metadata": {
  "kernelspec": {
   "display_name": "Python 3",
   "language": "python",
   "name": "python3"
  },
  "language_info": {
   "codemirror_mode": {
    "name": "ipython",
    "version": 3
   },
   "file_extension": ".py",
   "mimetype": "text/x-python",
   "name": "python",
   "nbconvert_exporter": "python",
   "pygments_lexer": "ipython3",
   "version": "3.7.0"
  }
 },
 "nbformat": 4,
 "nbformat_minor": 2
}
