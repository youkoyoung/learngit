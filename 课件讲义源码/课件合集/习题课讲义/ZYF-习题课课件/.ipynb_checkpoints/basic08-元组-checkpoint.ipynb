{
 "cells": [
  {
   "cell_type": "markdown",
   "metadata": {},
   "source": [
    "#### 定义一个元组\n",
    "- 多个元素\n",
    "- 单个元素"
   ]
  },
  {
   "cell_type": "code",
   "execution_count": 3,
   "metadata": {},
   "outputs": [],
   "source": [
    "a = (1,2,3)\n",
    "b = (1,)"
   ]
  },
  {
   "cell_type": "markdown",
   "metadata": {},
   "source": [
    "#### 下面的场景应该使用列表还是元组来保存数据\n",
    "- 游戏角色的属性 元组\n",
    "- 某购物网站的商品信息（图片，价格，介绍等） 列表\n",
    "- 动车组各组件的具体配置参数 元组\n",
    "- 你发送给数码城的电脑配置清单 元组，列表\n",
    "- 你的身份证信息 元组\n"
   ]
  },
  {
   "cell_type": "markdown",
   "metadata": {},
   "source": [
    "#### 增加一点内容，按格式输出\n",
    "```\n",
    " \"鹅鹅鹅\n",
    " 曲项向天歌\n",
    " 白毛浮绿水\n",
    " 红掌拨清波\"\n",
    " ```"
   ]
  },
  {
   "cell_type": "code",
   "execution_count": 4,
   "metadata": {},
   "outputs": [
    {
     "name": "stdout",
     "output_type": "stream",
     "text": [
      "\n",
      "鹅鹅鹅，\n",
      "曲项向天歌\n",
      "白毛浮绿水\n",
      "红掌拨清波\n",
      "\n"
     ]
    }
   ],
   "source": [
    "\n",
    "shi = \"\"\"\n",
    "鹅鹅鹅，\n",
    "曲项向天歌\n",
    "白毛浮绿水\n",
    "红掌拨清波\n",
    "\"\"\"\n",
    "\n",
    "print(shi)"
   ]
  },
  {
   "cell_type": "code",
   "execution_count": null,
   "metadata": {},
   "outputs": [],
   "source": []
  }
 ],
 "metadata": {
  "kernelspec": {
   "display_name": "Python 3",
   "language": "python",
   "name": "python3"
  },
  "language_info": {
   "codemirror_mode": {
    "name": "ipython",
    "version": 3
   },
   "file_extension": ".py",
   "mimetype": "text/x-python",
   "name": "python",
   "nbconvert_exporter": "python",
   "pygments_lexer": "ipython3",
   "version": "3.7.3"
  }
 },
 "nbformat": 4,
 "nbformat_minor": 2
}
