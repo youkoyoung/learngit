{
 "cells": [
  {
   "cell_type": "markdown",
   "metadata": {},
   "source": [
    "#### 10 < cost < 50 的等价表达式\n"
   ]
  },
  {
   "cell_type": "code",
   "execution_count": 1,
   "metadata": {},
   "outputs": [
    {
     "data": {
      "text/plain": [
       "True"
      ]
     },
     "execution_count": 1,
     "metadata": {},
     "output_type": "execute_result"
    }
   ],
   "source": [
    "cost = 40\n",
    "# (10<cost) and (cost<50)\n",
    "10 < cost < 50"
   ]
  },
  {
   "cell_type": "markdown",
   "metadata": {},
   "source": [
    "#### 使用int()将小数转换成整数，结果是向上取整还是向下取整"
   ]
  },
  {
   "cell_type": "code",
   "execution_count": 2,
   "metadata": {},
   "outputs": [
    {
     "name": "stdout",
     "output_type": "stream",
     "text": [
      "3\n"
     ]
    }
   ],
   "source": [
    "print(int(3.4))"
   ]
  },
  {
   "cell_type": "markdown",
   "metadata": {},
   "source": [
    "#### 写一个程序，判断给定年份是否为闰年\n",
    "- 闰年的定义：能够被4整出的年份就叫做闰年"
   ]
  },
  {
   "cell_type": "code",
   "execution_count": 3,
   "metadata": {},
   "outputs": [
    {
     "data": {
      "text/plain": [
       "2"
      ]
     },
     "execution_count": 3,
     "metadata": {},
     "output_type": "execute_result"
    }
   ],
   "source": [
    "6 % 4"
   ]
  },
  {
   "cell_type": "code",
   "execution_count": 8,
   "metadata": {},
   "outputs": [
    {
     "name": "stdout",
     "output_type": "stream",
     "text": [
      "请输入年份：2001\n",
      "2001不是闰年\n"
     ]
    }
   ],
   "source": [
    "year = input(\"请输入年份：\")\n",
    "# 判断用户输入的是不是数字？\n",
    "\n",
    "if year.isdigit():\n",
    "    year = int(year)\n",
    "    \n",
    "    if year % 4 == 0:\n",
    "        print(str(year) + \"是闰年\")\n",
    "    else:\n",
    "        #print(str(year) + \"不是闰年\")\n",
    "        print(\"{}不是闰年\".format(year))\n",
    "else:\n",
    "    print(\"叫你输入年份\")"
   ]
  },
  {
   "cell_type": "code",
   "execution_count": 15,
   "metadata": {},
   "outputs": [
    {
     "ename": "TypeError",
     "evalue": "can only concatenate str (not \"int\") to str",
     "output_type": "error",
     "traceback": [
      "\u001b[1;31m---------------------------------------------------------------------------\u001b[0m",
      "\u001b[1;31mTypeError\u001b[0m                                 Traceback (most recent call last)",
      "\u001b[1;32m<ipython-input-15-ec358fc6499a>\u001b[0m in \u001b[0;36m<module>\u001b[1;34m()\u001b[0m\n\u001b[1;32m----> 1\u001b[1;33m \u001b[1;34m\"1\"\u001b[0m \u001b[1;33m+\u001b[0m \u001b[1;36m1\u001b[0m\u001b[1;33m\u001b[0m\u001b[0m\n\u001b[0m",
      "\u001b[1;31mTypeError\u001b[0m: can only concatenate str (not \"int\") to str"
     ]
    }
   ],
   "source": [
    "\"1\" + 1\n"
   ]
  },
  {
   "cell_type": "markdown",
   "metadata": {},
   "source": [
    "#### 给用户三次机会，猜想我们程序生成的一个数字 A，每次用户猜想过后会提示数字是否正确以及用户输入数字是大于还是小于A，当机会用尽后提示用户已经输掉了游戏"
   ]
  },
  {
   "cell_type": "code",
   "execution_count": 1,
   "metadata": {},
   "outputs": [
    {
     "name": "stdout",
     "output_type": "stream",
     "text": [
      "请输入数字：50\n",
      "你的数字太大了！\n",
      "请输入数字：25\n",
      "你的数字太大了！\n",
      "请输入数字：12\n",
      "你的数字太小了!\n",
      "你的机会用完了\n"
     ]
    }
   ],
   "source": [
    "import random\n",
    "\n",
    "secert = random.randint(1,100) # 计算机生成一个随机数\n",
    "\n",
    "times = 3 # 初始化用户的次数是3次\n",
    "\n",
    "while times:\n",
    "    num = input(\"请输入数字：\")\n",
    "    if num.isdigit():\n",
    "        times = times - 1\n",
    "        tmp = int(num)\n",
    "        if tmp == secert:\n",
    "            print(\"你猜对了！！\")\n",
    "            break\n",
    "        elif tmp < secert:\n",
    "            print(\"你的数字太小了!\")\n",
    "#             times = times - 1\n",
    "        else:\n",
    "            print('你的数字太大了！')\n",
    "#             times = times - 1\n",
    "            \n",
    "    else:\n",
    "        print(\"叫你输入数字！！\")\n",
    "        \n",
    "print(\"你的机会用完了\")"
   ]
  },
  {
   "cell_type": "code",
   "execution_count": null,
   "metadata": {},
   "outputs": [],
   "source": []
  }
 ],
 "metadata": {
  "kernelspec": {
   "display_name": "Python 3",
   "language": "python",
   "name": "python3"
  },
  "language_info": {
   "codemirror_mode": {
    "name": "ipython",
    "version": 3
   },
   "file_extension": ".py",
   "mimetype": "text/x-python",
   "name": "python",
   "nbconvert_exporter": "python",
   "pygments_lexer": "ipython3",
   "version": "3.7.3"
  }
 },
 "nbformat": 4,
 "nbformat_minor": 2
}
