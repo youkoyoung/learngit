{
 "cells": [
  {
   "cell_type": "markdown",
   "metadata": {},
   "source": [
    "#### 编写一个程序，当用户输入文件名和行数的时候，将该文件的前N行内容打印到屏幕上\n",
    "\n",
    "input 去接收一个文件名  \n",
    "input 去接收一个行数\n"
   ]
  },
  {
   "cell_type": "code",
   "execution_count": 1,
   "metadata": {},
   "outputs": [
    {
     "name": "stdout",
     "output_type": "stream",
     "text": [
      "请输入你要打开的文件名：test\n",
      "请输入你要显示的前几行：6\n",
      "\n",
      "文件test的前6行的内容如下\n",
      "111\n",
      "\n",
      "222\n",
      "\n",
      "333\n",
      "\n",
      "444\n",
      "\n",
      "555\n",
      "\n",
      "666\n",
      "\n"
     ]
    }
   ],
   "source": [
    "file_name = input(r\"请输入你要打开的文件名：\") # 是一个str\n",
    "line_num = input(r\"请输入你要显示的前几行：\")\n",
    "\n",
    "def file_view(file_name, line_num):\n",
    "    print('\\n文件%s的前%s行的内容如下' %(file_name, line_num))\n",
    "    \n",
    "    # 去打开file_name的文件\n",
    "    f = open(file_name)\n",
    "    for i in range(int(line_num)):\n",
    "        print(f.readline())\n",
    "        \n",
    "    f.close()\n",
    "    \n",
    "file_view(file_name, line_num)"
   ]
  },
  {
   "cell_type": "markdown",
   "metadata": {},
   "source": [
    "#### 我们在上一道题的基础上，增加一点功能，使用户可以随意的输入需要显示的行数\n",
    "\n",
    "- 12:42\n",
    "- :\n",
    "- :9\n",
    "\n",
    "用以上的形式来表示我们想要打印的起始和结束的行数"
   ]
  },
  {
   "cell_type": "code",
   "execution_count": 4,
   "metadata": {},
   "outputs": [
    {
     "name": "stdout",
     "output_type": "stream",
     "text": [
      "请输入你要打开的文件名：test\n",
      "请输入你要显示的行数，格式为[1:9]或者[:]2:8\n",
      "222\n",
      "\n",
      "333\n",
      "\n",
      "444\n",
      "\n",
      "555\n",
      "\n",
      "666\n",
      "\n",
      "777\n",
      "\n",
      "888\n",
      "\n"
     ]
    }
   ],
   "source": [
    "file_name = input(\"请输入你要打开的文件名：\")\n",
    "line_num = input(\"请输入你要显示的行数，格式为[1:9]或者[:]\")\n",
    "def print_line(file_name, line_num):\n",
    "    f = open(file_name)\n",
    "    \n",
    "    begin, end = line_num.split(\":\")\n",
    "    \n",
    "    if begin == \"\":\n",
    "        begin = \"1\"\n",
    "    \n",
    "    if end == \"\":\n",
    "        end = \"-1\"\n",
    "        \n",
    "    begin = int(begin) - 1\n",
    "    end = int(end)\n",
    "    \n",
    "    lines = end - begin\n",
    "    \n",
    "    # 消耗掉 begin之前的行数\n",
    "    \n",
    "    for i in range(begin):\n",
    "        f.readline()\n",
    "        \n",
    "    if lines < 0:\n",
    "        print(f.read())\n",
    "    else:\n",
    "        for j in range(lines):\n",
    "            print(f.readline())\n",
    "            \n",
    "    f.close()\n",
    "    \n",
    "print_line(file_name,line_num)\n",
    "        \n",
    "        \n",
    "    \n",
    "    "
   ]
  },
  {
   "cell_type": "markdown",
   "metadata": {},
   "source": [
    "#### 编写一个程序，实现“全部替换”的功能\n",
    "\n",
    "- 打开一个文件\n",
    "- 把文件中 xxx这样的字符串，替换成 sss\n",
    "- open 打开文件\n",
    "- realine 读取文件内容\n",
    "- replace 替换"
   ]
  },
  {
   "cell_type": "code",
   "execution_count": 11,
   "metadata": {},
   "outputs": [
    {
     "name": "stdout",
     "output_type": "stream",
     "text": [
      "请输入你要打开的文件名：test\n",
      "请输入你要替换的字符：111\n",
      "请输入替换的新的字符串000\n",
      "你确定要这样子做嘛？请输入 YES/NOyes\n"
     ]
    }
   ],
   "source": [
    "file_name = input(\"请输入你要打开的文件名：\")\n",
    "rep_word = input(\"请输入你要替换的字符：\")\n",
    "new_word = input(\"请输入替换的新的字符串\")\n",
    "def file_replace(file_name,rep_word,new_word):\n",
    "    \n",
    "    f = open(file_name)\n",
    "    content = []\n",
    "    \n",
    "    for eachline in f:\n",
    "        if rep_word in eachline:\n",
    "            eachline = eachline.replace(rep_word, new_word)\n",
    "           \n",
    "        content.append(eachline)\n",
    "    \n",
    "    decide = input(\"你确定要这样子做嘛？请输入 YES/NO\")\n",
    "    \n",
    "    if decide in [\"YES\",\"Yes\",\"yes\"]:\n",
    "        f_write = open(file_name,'w')\n",
    "        f_write.write(\"\".join(content))\n",
    "        f_write.close()\n",
    "            \n",
    "file_replace(file_name, rep_word, new_word)"
   ]
  },
  {
   "cell_type": "code",
   "execution_count": null,
   "metadata": {},
   "outputs": [],
   "source": []
  }
 ],
 "metadata": {
  "kernelspec": {
   "display_name": "Python 3",
   "language": "python",
   "name": "python3"
  },
  "language_info": {
   "codemirror_mode": {
    "name": "ipython",
    "version": 3
   },
   "file_extension": ".py",
   "mimetype": "text/x-python",
   "name": "python",
   "nbconvert_exporter": "python",
   "pygments_lexer": "ipython3",
   "version": "3.7.0"
  }
 },
 "nbformat": 4,
 "nbformat_minor": 2
}
