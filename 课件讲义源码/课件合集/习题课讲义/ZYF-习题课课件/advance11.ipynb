{
 "cells": [
  {
   "cell_type": "markdown",
   "metadata": {},
   "source": [
    "#### 定义一个学生类，有下面的类属性\n",
    "1. 姓名\n",
    "2. 年龄\n",
    "3. 成绩（语文，数学，英语）每课成绩类型为整数\n",
    "类方法：\n",
    "1. 获取学生的姓名：get_name() 返回类型：str\n",
    "2. 获取学生的年纪：get_age()返回类型：int\n",
    "3. 返回3门科目中最高的分数，get_course()返回类型：int"
   ]
  },
  {
   "cell_type": "code",
   "execution_count": 25,
   "metadata": {},
   "outputs": [
    {
     "name": "stdout",
     "output_type": "stream",
     "text": [
      "周周\n",
      "18\n",
      "100\n"
     ]
    }
   ],
   "source": [
    "class Student(object):\n",
    "    def __init__(self, name, age, scores):\n",
    "        self.name = name\n",
    "        self.age = age\n",
    "        self.scores = scores\n",
    "        \n",
    "    def get_name(self):\n",
    "        return self.name\n",
    "    \n",
    "    def get_age(self):\n",
    "        return self.age\n",
    "    \n",
    "    def get_course(self):\n",
    "        return max(self.scores)\n",
    "    \n",
    "\n",
    "zz = Student(\"周周\", 18, [80,100,90])\n",
    "print(zz.get_name())\n",
    "print(zz.get_age())\n",
    "print(zz.get_course())\n",
    "\n",
    "# print(min([100,299,499,500]))\n",
    "        "
   ]
  },
  {
   "cell_type": "markdown",
   "metadata": {},
   "source": [
    "#### 定义一个字典类：DictClass，完成如下功能\n",
    "1. 删除某个key del_dict(key)\n",
    "2. 判断某个键是否在字典里，如果在返回键对应的值，不在则返回‘not found' get_dict()\n",
    "3. 返回键组成的列表 返回类型：list get_key()\n",
    "4. 合并字典，并且返回合并后字典的values组成的列表，返回类型list update_dict()"
   ]
  },
  {
   "cell_type": "code",
   "execution_count": 44,
   "metadata": {},
   "outputs": [
    {
     "name": "stdout",
     "output_type": "stream",
     "text": [
      "dict_values([1, 2, 3])\n"
     ]
    }
   ],
   "source": [
    "class DictClass(object):\n",
    "    \n",
    "    def __init__(self, dict):\n",
    "        self.dict = dict\n",
    "        \n",
    "    def del_dict(self, key):\n",
    "        # 判断 key是否在字典里？\n",
    "        if key not in self.dict.keys():\n",
    "            return \"key不在字典里\"\n",
    "        else:\n",
    "            self.dict.pop(key)\n",
    "            return \"删除成功\"\n",
    "    \n",
    "    def get_dict(self, key):\n",
    "        if key not in self.dict.keys():\n",
    "            return \"not found\"\n",
    "        else:\n",
    "            return self.dict[key]\n",
    "    \n",
    "    def get_key(self):\n",
    "        return self.dict.keys()\n",
    "    \n",
    "    def update_dict(self, dict2):\n",
    "        self.dict = dict(self.dict, **dict2)\n",
    "        return self.dict.values()\n",
    "\n",
    "d = DictClass({\"a\":1,\"b\":2})\n",
    "print(d.update_dict({\"c\":3}))"
   ]
  },
  {
   "cell_type": "markdown",
   "metadata": {},
   "source": [
    "#### 定义一个列表的操作类 ListInfo\n",
    "包括的方法\n",
    "1. 列表元素添加: add_key() 添加的必须是数字或者字符串\n",
    "2. 列表元素取值: get_key()\n",
    "3. 列表合并: update_list(list)\n",
    "4. 删除并且返回最后一个元素: del_key()"
   ]
  },
  {
   "cell_type": "code",
   "execution_count": 18,
   "metadata": {},
   "outputs": [
    {
     "name": "stdout",
     "output_type": "stream",
     "text": [
      "[1, 2, 3, 4, 5, [1, 4, 5, 6]]\n",
      "OK\n"
     ]
    }
   ],
   "source": [
    "class ListInfo(object):\n",
    "    \n",
    "    def __init__(self, list_val):\n",
    "        self.list = list_val\n",
    "        \n",
    "    def add_key(self, key_name):\n",
    "        # 添加的key必须是字符串或者数字\n",
    "#         if isinstance(key_name, (str, int)):\n",
    "        self.list.append(key_name)\n",
    "        print(self.list) \n",
    "        return \"OK\"\n",
    "#         else:\n",
    "#             return \"我要字符串或者数字\"\n",
    "        \n",
    "    def get_key(self,index):\n",
    "        # 判断传入的索引是否超出了列表\n",
    "        if index>= 0 and index < len(self.list):\n",
    "            return self.list[index]\n",
    "        return \"你输入的太多了，想太多了\"\n",
    "        \n",
    "    def update_list(self, new_list):\n",
    "        self.list.extend(new_list)\n",
    "        return self.list\n",
    "        \n",
    "    def del_key(self):\n",
    "        # 首先要判断我们的列表里面还有元素\n",
    "        if len(self.list) >= 0:\n",
    "            return self.list.pop(-1)\n",
    "        else:\n",
    "            return \"列表是空的\"\n",
    "    \n",
    "    \n",
    "    \n",
    "list_info = ListInfo([1,2,3,4,5])\n",
    "\n",
    "print(list_info.add_key([1,4,5,6]))\n",
    "# print(list_info.get_key(3))\n",
    "# print(list_info.update_list([8,9,10]))\n",
    "# print(list_info.del_key())"
   ]
  },
  {
   "cell_type": "markdown",
   "metadata": {},
   "source": [
    "#### 定义一个集合的操作类\n",
    "包括的方法\n",
    "1. 集合元素添加: add_setinfo()\n",
    "2. 集合的交集: get_intersection()\n",
    "3. 集合的并集: get_union()\n",
    "4. 集合的差集: del_difference()\n"
   ]
  },
  {
   "cell_type": "code",
   "execution_count": 27,
   "metadata": {},
   "outputs": [
    {
     "name": "stdout",
     "output_type": "stream",
     "text": [
      "你传入的不是set\n"
     ]
    }
   ],
   "source": [
    "class SecInfo(object):\n",
    "    def __init__(self, my_set):\n",
    "        self.sett = my_set\n",
    "        \n",
    "    def add_setinfo(self, keyname):\n",
    "        self.sett.add(keyname)\n",
    "        return self.sett\n",
    "    \n",
    "    def get_intersection(self,unioninfo):\n",
    "        if isinstance(unioninfo, set):\n",
    "            return self.sett & unioninfo\n",
    "        else:\n",
    "            return \"你传入的不是set\"\n",
    "    \n",
    "    def get_union(self, unioninfo):\n",
    "        if isinstance(unioninfo, set):\n",
    "            return self.sett | unioninfo\n",
    "        return \"你传入的不是set\"\n",
    "    \n",
    "    def del_difference(self, unioninfo):\n",
    "        if isinstance(unioninfo, set):\n",
    "            return self.sett - unioninfo\n",
    "        return \"你传入的不是set\"\n",
    "    \n",
    "A = set([1,2,3,4,5])\n",
    "B = set([5,6,3])\n",
    "my_set = SecInfo(A)\n",
    "# print(my_set.add_setinfo(6))\n",
    "# print(my_set.get_union(B))\n",
    "# print(my_set.del_difference(B))\n",
    "print(my_set.del_difference(\"123\"))"
   ]
  },
  {
   "cell_type": "code",
   "execution_count": null,
   "metadata": {},
   "outputs": [],
   "source": []
  }
 ],
 "metadata": {
  "kernelspec": {
   "display_name": "Python 3",
   "language": "python",
   "name": "python3"
  },
  "language_info": {
   "codemirror_mode": {
    "name": "ipython",
    "version": 3
   },
   "file_extension": ".py",
   "mimetype": "text/x-python",
   "name": "python",
   "nbconvert_exporter": "python",
   "pygments_lexer": "ipython3",
   "version": "3.7.0"
  }
 },
 "nbformat": 4,
 "nbformat_minor": 2
}
