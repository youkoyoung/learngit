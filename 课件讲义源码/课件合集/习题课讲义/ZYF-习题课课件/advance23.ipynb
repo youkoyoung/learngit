{
 "cells": [
  {
   "cell_type": "markdown",
   "metadata": {},
   "source": [
    "#### logging\n",
    "- logging.debug\n",
    "- logging.info\n",
    "- logging.warning\n",
    "- logging.error\n",
    "- logging.critical"
   ]
  },
  {
   "cell_type": "code",
   "execution_count": 1,
   "metadata": {},
   "outputs": [],
   "source": [
    "import logging\n",
    "\n",
    "LOG_FORMART = \"%(asctime)s - %(levelname)s - %(message)s\"\n",
    "\n",
    "logging.basicConfig(level=logging.DEBUG, format=LOG_FORMART, filename=\"my.log\")\n",
    "\n",
    "logging.debug(\"this is debug\")\n",
    "logging.info(\"this is info\")\n",
    "logging.warning(\"this is warning\")\n",
    "logging.error(\"this is error\")\n",
    "logging.critical(\"this is critical\")\n",
    "\n"
   ]
  },
  {
   "cell_type": "markdown",
   "metadata": {},
   "source": [
    "#### 装饰器\n",
    "- 使用装饰器，打印函数执行的时间\n"
   ]
  },
  {
   "cell_type": "code",
   "execution_count": 1,
   "metadata": {},
   "outputs": [
    {
     "name": "stderr",
     "output_type": "stream",
     "text": [
      "2018-10-23 18:15:01,098 - ERROR - this is info message\n"
     ]
    },
    {
     "name": "stdout",
     "output_type": "stream",
     "text": [
      "test done\n"
     ]
    }
   ],
   "source": [
    "import logging \n",
    "\n",
    "LOG_FORMART = \"%(asctime)s - %(levelname)s - %(message)s\"\n",
    "logging.basicConfig(format = LOG_FORMART)\n",
    "\n",
    "def log(func):\n",
    "    def wrapper(*arg, **kw):\n",
    "        logging.error(\"this is info message\")\n",
    "        return func(*arg, **kw)\n",
    "    return wrapper\n",
    "\n",
    "@log\n",
    "def test():\n",
    "    print(\"test done\")\n",
    "    \n",
    "test()"
   ]
  },
  {
   "cell_type": "code",
   "execution_count": 1,
   "metadata": {},
   "outputs": [
    {
     "name": "stderr",
     "output_type": "stream",
     "text": [
      "2018-10-23 18:19:10,982 - ERROR - test done\n",
      "2018-10-23 18:19:10,983 - ERROR - main done\n"
     ]
    },
    {
     "name": "stdout",
     "output_type": "stream",
     "text": [
      "test done\n",
      "main done\n"
     ]
    }
   ],
   "source": [
    "#### 使用装饰器，根据不同的函数，传入的日志不相同\n",
    "\n",
    "# def log(func):\n",
    "#     def wrapper(*arg, **kw):\n",
    "#         logging.error(\"this is info message\")\n",
    "#         return func(*arg, **kw)\n",
    "#     return wrapper\n",
    "import logging\n",
    "\n",
    "LOG_FORMART = \"%(asctime)s - %(levelname)s - %(message)s\"\n",
    "logging.basicConfig(format=LOG_FORMART, filename=\"xxx.log\")\n",
    "\n",
    "def log(text):\n",
    "    def decorator(func):\n",
    "        def wrapper(*arg, **kw):\n",
    "            logging.error(text)\n",
    "            return func(*arg, **kw)\n",
    "        return wrapper\n",
    "    return decorator\n",
    "\n",
    "@log(\"test done\")\n",
    "def test():\n",
    "    print(\"test done\")\n",
    "\n",
    "@log(\"main done\")\n",
    "def main():\n",
    "    print(\"main done\")\n",
    "    \n",
    "test()\n",
    "main()"
   ]
  },
  {
   "cell_type": "code",
   "execution_count": 6,
   "metadata": {},
   "outputs": [
    {
     "name": "stderr",
     "output_type": "stream",
     "text": [
      "2018-10-23 18:21:30,051 - ERROR - this is info message\n"
     ]
    },
    {
     "name": "stdout",
     "output_type": "stream",
     "text": [
      "hahaha\n"
     ]
    }
   ],
   "source": [
    "def log(func):\n",
    "    def wrapper(*arg, **kw):\n",
    "        print(func.__name__)\n",
    "        logging.error(\"this is info message\")\n",
    "        return func(*arg, **kw)\n",
    "    return wrapper\n",
    "\n",
    "\n",
    "@log\n",
    "def hahaha():\n",
    "    pass\n",
    "\n",
    "hahaha()\n",
    "\n",
    "\n",
    "log(test)"
   ]
  },
  {
   "cell_type": "code",
   "execution_count": null,
   "metadata": {},
   "outputs": [],
   "source": [
    "def log(text):\n",
    "    def decorator(func):\n",
    "        def wrapper(*arg, **kw):\n",
    "            logging.error(text)\n",
    "            return func(*arg, **kw)\n",
    "        return wrapper\n",
    "    return decorator\n",
    "\n",
    "@log(\"xixi\")\n",
    "def test():\n",
    "    pass\n",
    "\n",
    "log(\"xixi\")(test)"
   ]
  }
 ],
 "metadata": {
  "kernelspec": {
   "display_name": "Python 3",
   "language": "python",
   "name": "python3"
  },
  "language_info": {
   "codemirror_mode": {
    "name": "ipython",
    "version": 3
   },
   "file_extension": ".py",
   "mimetype": "text/x-python",
   "name": "python",
   "nbconvert_exporter": "python",
   "pygments_lexer": "ipython3",
   "version": "3.7.0"
  }
 },
 "nbformat": 4,
 "nbformat_minor": 2
}
