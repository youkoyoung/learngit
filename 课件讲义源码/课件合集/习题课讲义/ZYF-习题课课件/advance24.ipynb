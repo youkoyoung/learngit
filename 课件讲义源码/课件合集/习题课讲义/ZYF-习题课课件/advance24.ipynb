{
 "cells": [
  {
   "cell_type": "markdown",
   "metadata": {},
   "source": [
    "#### 用logging的四大组件来实现日志的功能\n",
    "- 打应出函数执行的时间，日志的等级，日志的消息\n",
    "- 用装饰器\n",
    "- 不同的日志，要记录不同等级的日志消息"
   ]
  },
  {
   "cell_type": "code",
   "execution_count": 5,
   "metadata": {},
   "outputs": [
    {
     "name": "stdout",
     "output_type": "stream",
     "text": [
      "test1 done\n",
      "main done\n"
     ]
    }
   ],
   "source": [
    "import logging\n",
    "\n",
    "logger = logging.getLogger(\"mylogger\")\n",
    "\n",
    "logger.setLevel(logging.DEBUG)\n",
    "\n",
    "# handler\n",
    "\n",
    "# TimeRotationFileHandler 是用来按照日期去划分日志\n",
    "# RotationFileHandler 是按照日志文件的大小划分日志\n",
    "\n",
    "debug_handler = logging.FileHandler(\"1024debug1.log\")\n",
    "debug_handler.setLevel(logging.DEBUG)\n",
    "debug_handler.setFormatter(logging.Formatter(\"%(asctime)s - %(levelname)s - %(message)s\"))\n",
    "\n",
    "error_handler = logging.FileHandler(\"1024error1.log\")\n",
    "error_handler.setLevel(logging.ERROR)\n",
    "error_handler.setFormatter(logging.Formatter(\"%(asctime)s - %(levelname)s - %(message)s\"))\n",
    "\n",
    "logger.addHandler(debug_handler)\n",
    "logger.addHandler(error_handler)\n",
    "\n",
    "\n",
    "def log(func):\n",
    "    def wrapper(*arg, **kw):\n",
    "        logger.debug(\"this is a debugger info\")\n",
    "        logger.error(\"this is a error info\")\n",
    "        return func(*arg, **kw)\n",
    "    return wrapper\n",
    "\n",
    "def loghigher(text):\n",
    "    def decorator(func):\n",
    "        def wrapper(*arg, **kw):\n",
    "            logger.debug(text)\n",
    "            logger.error(text)\n",
    "            return func(*arg, **kw)\n",
    "        return wrapper\n",
    "    return decorator\n",
    "\n",
    "# 按照函数的不同，要在日志中打印出不同的东西\n",
    "@log\n",
    "def test():\n",
    "    print(\"test done\")\n",
    "\n",
    "@loghigher(\"this is test1 done\")\n",
    "def test1():\n",
    "    print(\"test1 done\")\n",
    "\n",
    "@loghigher(\"this is main done\")\n",
    "def main():\n",
    "    print(\"main done\")\n",
    "    \n",
    "test1()\n",
    "main()"
   ]
  },
  {
   "cell_type": "markdown",
   "metadata": {},
   "source": [
    "#### 一般情况我们在实际的工作当中，我们经常把logging封装成一个装饰器，按照我自己的习惯，我是习惯新建一个loggerTools的文件，在需要保存日志的地方，把loggerTools给引进进来。"
   ]
  },
  {
   "cell_type": "code",
   "execution_count": null,
   "metadata": {},
   "outputs": [],
   "source": []
  }
 ],
 "metadata": {
  "kernelspec": {
   "display_name": "Python 3",
   "language": "python",
   "name": "python3"
  },
  "language_info": {
   "codemirror_mode": {
    "name": "ipython",
    "version": 3
   },
   "file_extension": ".py",
   "mimetype": "text/x-python",
   "name": "python",
   "nbconvert_exporter": "python",
   "pygments_lexer": "ipython3",
   "version": "3.7.0"
  }
 },
 "nbformat": 4,
 "nbformat_minor": 2
}
