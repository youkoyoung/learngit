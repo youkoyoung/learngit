{
 "cells": [
  {
   "cell_type": "markdown",
   "metadata": {},
   "source": [
    "#### 编写一个程序，统计当前目录下每个文件类型的文件数\n",
    "\n",
    "##### 思路：\n",
    "- 打开当前的文件夹\n",
    "- 获取到当前文件夹下面所有的文件\n",
    "- 处理我们当前的文件夹下面可能有文件夹的情况 （也要答应出来）\n",
    "- 做出统计"
   ]
  },
  {
   "cell_type": "code",
   "execution_count": 5,
   "metadata": {},
   "outputs": [
    {
     "name": "stdout",
     "output_type": "stream",
     "text": [
      "该文件夹下面有类型为文件夹的文件2个\n",
      "该文件夹下面有类型为.ipynb的文件19个\n",
      "该文件夹下面有类型为.txt的文件1个\n"
     ]
    }
   ],
   "source": [
    "import os\n",
    "\n",
    "# 获取到当前文件夹下面所有的文件\n",
    "all_files = os.listdir(os.curdir) # os.curdir 表示当前目录 curdir :currentdirectory\n",
    "\n",
    "type_dict = dict()\n",
    "\n",
    "for each_file in all_files:\n",
    "    # 如果说我们的each_file是文件夹\n",
    "    if os.path.isdir(each_file):\n",
    "        type_dict.setdefault(\"文件夹\",0)\n",
    "        type_dict[\"文件夹\"] += 1\n",
    "    else:\n",
    "        # 如果不是文件夹，而是文件，统计我们的文件\n",
    "        ext = os.path.splitext(each_file)[1] # 获取到文件的后缀\n",
    "        type_dict.setdefault(ext,0)\n",
    "        type_dict[ext] += 1\n",
    "        \n",
    "for each_type in type_dict:\n",
    "    print(\"该文件夹下面有类型为{}的文件{}个\".format(each_type, type_dict[each_type]))\n",
    "        "
   ]
  },
  {
   "cell_type": "markdown",
   "metadata": {},
   "source": [
    "#### 编写一个程序，计算当前文件夹下面所有文件的大小\n",
    "- 打开当前文件夹\n",
    "- 获取到所有的文件，和文件大小\n",
    "- 保存我们获取到的数据，然后打印出来"
   ]
  },
  {
   "cell_type": "code",
   "execution_count": 7,
   "metadata": {},
   "outputs": [
    {
     "name": "stdout",
     "output_type": "stream",
     "text": [
      "b01.ipynb大小952\n",
      "b02.ipynb大小3892\n",
      "b03.ipynb大小5220\n",
      "b04.ipynb大小2779\n",
      "b05.ipynb大小6365\n",
      "b06-打印水仙花数和三色球问题.ipynb大小1155\n",
      "b07.ipynb大小546\n",
      "b08-元组.ipynb大小2059\n",
      "b09-dict和set.ipynb大小2781\n",
      "b10-面向对象编程.ipynb大小7507\n",
      "b11-面向对象编程02.ipynb大小7083\n",
      "b13.ipynb大小7648\n",
      "b14.ipynb大小3166\n",
      "b15.ipynb大小19378\n",
      "b16.ipynb大小4201\n",
      "b17.ipynb大小3696\n",
      "b19.ipynb大小3815\n",
      "b20.ipynb大小5505\n",
      "test.txt大小45\n",
      "Untitled.ipynb大小3088\n"
     ]
    }
   ],
   "source": [
    "import os\n",
    "\n",
    "all_files = os.listdir(os.curdir)\n",
    "\n",
    "file_dict = dict()\n",
    "\n",
    "for each_file in all_files:\n",
    "    # 判断我们的这个each_file是否是文件\n",
    "    if os.path.isfile(each_file):\n",
    "        file_size = os.path.getsize(each_file)\n",
    "        file_dict[each_file] = file_size\n",
    "        \n",
    "for each in file_dict.items():\n",
    "    print(\"{}大小{}\".format(each[0],each[1]))\n",
    "\n",
    "        "
   ]
  },
  {
   "cell_type": "code",
   "execution_count": null,
   "metadata": {},
   "outputs": [],
   "source": []
  }
 ],
 "metadata": {
  "kernelspec": {
   "display_name": "Python 3",
   "language": "python",
   "name": "python3"
  },
  "language_info": {
   "codemirror_mode": {
    "name": "ipython",
    "version": 3
   },
   "file_extension": ".py",
   "mimetype": "text/x-python",
   "name": "python",
   "nbconvert_exporter": "python",
   "pygments_lexer": "ipython3",
   "version": "3.7.0"
  }
 },
 "nbformat": 4,
 "nbformat_minor": 2
}
