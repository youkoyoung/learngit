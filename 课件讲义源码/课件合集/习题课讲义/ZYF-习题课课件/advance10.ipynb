{
 "cells": [
  {
   "cell_type": "markdown",
   "metadata": {},
   "source": [
    "#### 定义一个学生类，有下面的类属性\n",
    "1. 姓名\n",
    "2. 年龄\n",
    "3. 成绩（语文，数学，英语）每课成绩类型为整数\n",
    "类方法：\n",
    "1. 获取学生的姓名：get_name() 返回类型：str\n",
    "2. 获取学生的年纪：get_age()返回类型：int\n",
    "3. 返回3门科目中最高的分数，get_course()返回类型：int"
   ]
  },
  {
   "cell_type": "code",
   "execution_count": 25,
   "metadata": {},
   "outputs": [
    {
     "name": "stdout",
     "output_type": "stream",
     "text": [
      "周周\n",
      "18\n",
      "100\n"
     ]
    }
   ],
   "source": [
    "class Student(object):\n",
    "    def __init__(self, name, age, scores):\n",
    "        self.name = name\n",
    "        self.age = age\n",
    "        self.scores = scores\n",
    "        \n",
    "    def get_name(self):\n",
    "        return self.name\n",
    "    \n",
    "    def get_age(self):\n",
    "        return self.age\n",
    "    \n",
    "    def get_course(self):\n",
    "        return max(self.scores)\n",
    "    \n",
    "\n",
    "zz = Student(\"周周\", 18, [80,100,90])\n",
    "print(zz.get_name())\n",
    "print(zz.get_age())\n",
    "print(zz.get_course())\n",
    "\n",
    "# print(min([100,299,499,500]))\n",
    "        "
   ]
  },
  {
   "cell_type": "markdown",
   "metadata": {},
   "source": [
    "#### 定义一个字典类：DictClass，完成如下功能\n",
    "1. 删除某个key del_dict(key)\n",
    "2. 判断某个键是否在字典里，如果在返回键对应的值，不在则返回‘not found' get_dict()\n",
    "3. 返回键组成的列表 返回类型：list get_key()\n",
    "4. 合并字典，并且返回合并后字典的values组成的列表，返回类型list update_dict()"
   ]
  },
  {
   "cell_type": "code",
   "execution_count": 44,
   "metadata": {},
   "outputs": [
    {
     "name": "stdout",
     "output_type": "stream",
     "text": [
      "dict_values([1, 2, 3])\n"
     ]
    }
   ],
   "source": [
    "class DictClass(object):\n",
    "    \n",
    "    def __init__(self, dict):\n",
    "        self.dict = dict\n",
    "        \n",
    "    def del_dict(self, key):\n",
    "        # 判断 key是否在字典里？\n",
    "        if key not in self.dict.keys():\n",
    "            return \"key不在字典里\"\n",
    "        else:\n",
    "            self.dict.pop(key)\n",
    "            return \"删除成功\"\n",
    "    \n",
    "    def get_dict(self, key):\n",
    "        if key not in self.dict.keys():\n",
    "            return \"not found\"\n",
    "        else:\n",
    "            return self.dict[key]\n",
    "    \n",
    "    def get_key(self):\n",
    "        return self.dict.keys()\n",
    "    \n",
    "    def update_dict(self, dict2):\n",
    "        self.dict = dict(self.dict, **dict2)\n",
    "        return self.dict.values()\n",
    "\n",
    "d = DictClass({\"a\":1,\"b\":2})\n",
    "print(d.update_dict({\"c\":3}))"
   ]
  },
  {
   "cell_type": "markdown",
   "metadata": {},
   "source": [
    "#### 定义一个列表的操作类 ListInfo\n",
    "包括的方法\n",
    "1. 列表元素添加: add_key()\n",
    "2. 列表元素取值: get_key()\n",
    "3. 列表合并: update_list(list)\n",
    "4. 删除并且返回最后一个元素: del_key()"
   ]
  },
  {
   "cell_type": "markdown",
   "metadata": {},
   "source": [
    "#### 定义一个集合的操作类\n",
    "包括的方法\n",
    "1. 集合元素添加: add_setinfo()\n",
    "2. 集合的交集: get_intersection()\n",
    "3. 集合的并集: get_union()\n",
    "4. 集合的差集: del_difference()\n"
   ]
  },
  {
   "cell_type": "code",
   "execution_count": null,
   "metadata": {},
   "outputs": [],
   "source": []
  }
 ],
 "metadata": {
  "kernelspec": {
   "display_name": "Python 3",
   "language": "python",
   "name": "python3"
  },
  "language_info": {
   "codemirror_mode": {
    "name": "ipython",
    "version": 3
   },
   "file_extension": ".py",
   "mimetype": "text/x-python",
   "name": "python",
   "nbconvert_exporter": "python",
   "pygments_lexer": "ipython3",
   "version": "3.7.0"
  }
 },
 "nbformat": 4,
 "nbformat_minor": 2
}
