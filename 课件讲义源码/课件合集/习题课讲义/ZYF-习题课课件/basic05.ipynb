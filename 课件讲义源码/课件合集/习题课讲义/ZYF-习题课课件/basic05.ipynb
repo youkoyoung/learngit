{
 "cells": [
  {
   "cell_type": "markdown",
   "metadata": {},
   "source": [
    "#### 这行代码是什么意思\n",
    "```if not (money<100)```\n",
    "\n"
   ]
  },
  {
   "cell_type": "code",
   "execution_count": null,
   "metadata": {},
   "outputs": [],
   "source": [
    "money >= 100"
   ]
  },
  {
   "cell_type": "markdown",
   "metadata": {},
   "source": [
    "#### 假设有x = 1, y = 2, z = 3, 如何快速将三个变量的值相互交换？"
   ]
  },
  {
   "cell_type": "code",
   "execution_count": 3,
   "metadata": {},
   "outputs": [
    {
     "name": "stdout",
     "output_type": "stream",
     "text": [
      "1\n",
      "2\n",
      "3\n",
      "**********\n",
      "2\n",
      "3\n",
      "1\n"
     ]
    }
   ],
   "source": [
    "x = 1\n",
    "y = 2\n",
    "z = 3\n",
    "\n",
    "print(x)\n",
    "print(y)\n",
    "print(z)\n",
    "print(\"*\"*10)\n",
    "\n",
    "x,y,z = y,z,x\n",
    "\n",
    "print(x)\n",
    "print(y)\n",
    "print(z)"
   ]
  },
  {
   "cell_type": "markdown",
   "metadata": {},
   "source": [
    "#### 成员资格运算符 'in'的用法"
   ]
  },
  {
   "cell_type": "code",
   "execution_count": 7,
   "metadata": {},
   "outputs": [
    {
     "name": "stdout",
     "output_type": "stream",
     "text": [
      "True\n"
     ]
    }
   ],
   "source": [
    "ls = range(100)\n",
    "\n",
    "if not 100 in ls:\n",
    "    print(True)\n",
    "else:\n",
    "    print(False)\n",
    "    \n"
   ]
  },
  {
   "cell_type": "markdown",
   "metadata": {},
   "source": [
    "#### range()函数"
   ]
  },
  {
   "cell_type": "code",
   "execution_count": 8,
   "metadata": {},
   "outputs": [
    {
     "name": "stdout",
     "output_type": "stream",
     "text": [
      "0\n",
      "2\n",
      "4\n",
      "6\n",
      "8\n"
     ]
    }
   ],
   "source": [
    "ls = range(0,10,2)\n",
    "\n",
    "for i in ls:\n",
    "    print(i)"
   ]
  },
  {
   "cell_type": "markdown",
   "metadata": {},
   "source": [
    "#### 下面的循环会打印多少次\"Tuling\"\n",
    "```\n",
    "for i in range(0,10,2):\n",
    "    print(\"Tuling\")\n",
    "```"
   ]
  },
  {
   "cell_type": "code",
   "execution_count": 4,
   "metadata": {},
   "outputs": [
    {
     "name": "stdout",
     "output_type": "stream",
     "text": [
      "Tuling-0\n",
      "Tuling-2\n",
      "Tuling-4\n",
      "Tuling-6\n",
      "Tuling-8\n"
     ]
    }
   ],
   "source": [
    "for i in range(0,10,2):\n",
    "    print(\"Tuling-{}\".format(i))"
   ]
  },
  {
   "cell_type": "markdown",
   "metadata": {},
   "source": [
    "#### 目测一下程序会打印什么\n",
    "```\n",
    "while True:\n",
    "    while True:\n",
    "        break\n",
    "        print(1)\n",
    "    print(2)\n",
    "    break\n",
    "print(3)\n",
    "```"
   ]
  },
  {
   "cell_type": "code",
   "execution_count": 10,
   "metadata": {},
   "outputs": [
    {
     "name": "stdout",
     "output_type": "stream",
     "text": [
      "2\n",
      "3\n"
     ]
    }
   ],
   "source": [
    "while True:\n",
    "    while True:\n",
    "        break\n",
    "        print(1)\n",
    "    print(2)\n",
    "    break\n",
    "print(3)"
   ]
  },
  {
   "cell_type": "markdown",
   "metadata": {},
   "source": [
    "#### 从代码效率的方面考虑，以下代码有什么问题，如何改进？\n",
    "```\n",
    "i = 0\n",
    "string = \"ILoveTuling\"\n",
    "while i < len(string):\n",
    "    print(i)\n",
    "    i += 1\n",
    "```"
   ]
  },
  {
   "cell_type": "code",
   "execution_count": 13,
   "metadata": {},
   "outputs": [
    {
     "name": "stdout",
     "output_type": "stream",
     "text": [
      "0\n",
      "1\n",
      "2\n",
      "3\n",
      "4\n",
      "5\n",
      "6\n",
      "7\n",
      "8\n",
      "9\n",
      "10\n"
     ]
    }
   ],
   "source": [
    "i = 0\n",
    "string = \"ILoveTuling\"\n",
    "leng = len(string)\n",
    "while i < leng:\n",
    "    print(i)\n",
    "    i += 1"
   ]
  },
  {
   "cell_type": "markdown",
   "metadata": {},
   "source": [
    "#### 设计一个验证用户密码的程序，用户只有三次机会输入错误，不过如果用户输入的内容包括 “*” 则不计算在内"
   ]
  },
  {
   "cell_type": "code",
   "execution_count": 10,
   "metadata": {},
   "outputs": [
    {
     "name": "stdout",
     "output_type": "stream",
     "text": [
      "please input password:*\n",
      "don't contain *!\n",
      "please input password:abc123\n",
      "you are right!\n"
     ]
    }
   ],
   "source": [
    "password = \"abc123\"\n",
    "times = 3\n",
    "while times:\n",
    "    input_password =  input(\"please input password:\")\n",
    "    \n",
    "    if \"*\" in input_password:\n",
    "        print(\"don't contain *!\")\n",
    "    else:\n",
    "\n",
    "        if input_password == password:\n",
    "            print(\"you are right!\")\n",
    "            break\n",
    "        else:\n",
    "            print(\"ERROR!\")\n",
    "        \n",
    "        times -= 1\n",
    "        if times == 0:\n",
    "            print(\"times out\")\n",
    "            "
   ]
  },
  {
   "cell_type": "code",
   "execution_count": 5,
   "metadata": {},
   "outputs": [
    {
     "name": "stdout",
     "output_type": "stream",
     "text": [
      "请输入密码:abc\n",
      "密码错误!\n",
      "请输入密码:123\n",
      "密码错误!\n",
      "请输入密码:abc012\n",
      "密码正确!\n"
     ]
    }
   ],
   "source": [
    "password = \"abc012\"\n",
    "times = 3\n",
    "while times:\n",
    "    input_password = input(\"请输入密码:\")\n",
    "    \n",
    "    if '*' in input_password:\n",
    "        print(\"密码中不能包含*号!\")\n",
    "    else:\n",
    "        if input_password == password:\n",
    "            print(\"密码正确!\")\n",
    "            break\n",
    "        else:\n",
    "            print(\"密码错误!\")\n",
    "            times -= 1\n",
    "        "
   ]
  },
  {
   "cell_type": "code",
   "execution_count": 16,
   "metadata": {},
   "outputs": [
    {
     "name": "stdout",
     "output_type": "stream",
     "text": [
      "请输入用户密码：*\n",
      "密码中不能含有*号\n",
      "请输入用户密码：098776\n",
      "密码错误\n",
      "请输入用户密码：fjakdfj\n",
      "密码错误\n",
      "请输入用户密码：abc012\n",
      "密码正确\n"
     ]
    }
   ],
   "source": [
    "password = \"abc012\"\n",
    "times = 3\n",
    "while times:\n",
    "    input_password = input(\"请输入用户密码：\")\n",
    "    if '*' in input_password:\n",
    "        print(\"密码中不能含有*号\")\n",
    "    elif input_password == password:\n",
    "        print('密码正确')\n",
    "        break\n",
    "    else:\n",
    "        print(\"密码错误\")\n",
    "        times -= 1"
   ]
  },
  {
   "cell_type": "code",
   "execution_count": null,
   "metadata": {},
   "outputs": [],
   "source": []
  }
 ],
 "metadata": {
  "kernelspec": {
   "display_name": "Python 3",
   "language": "python",
   "name": "python3"
  },
  "language_info": {
   "codemirror_mode": {
    "name": "ipython",
    "version": 3
   },
   "file_extension": ".py",
   "mimetype": "text/x-python",
   "name": "python",
   "nbconvert_exporter": "python",
   "pygments_lexer": "ipython3",
   "version": "3.7.3"
  }
 },
 "nbformat": 4,
 "nbformat_minor": 2
}
